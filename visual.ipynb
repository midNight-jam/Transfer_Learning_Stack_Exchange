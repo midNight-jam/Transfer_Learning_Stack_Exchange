{
 "cells": [
  {
   "cell_type": "code",
   "execution_count": 5,
   "metadata": {
    "collapsed": true
   },
   "outputs": [],
   "source": [
    "import numpy as np\n",
    "import pandas as pd\n",
    "from nltk.corpus import stopwords\n",
    "import re\n",
    "cachedStopWords = stopwords.words(\"english\")\n",
    "\n",
    "def replace_special_character(document):\n",
    "    result = re.sub('[^a-zA-Z\\n\\.]', ' ', document).replace('.', ' ')\n",
    "    result = ' '.join(result.split())\n",
    "    result = \"\".join(result.splitlines())\n",
    "    result=re.sub(r'\\b\\w{1,3}\\b', '', result)\n",
    "    return result.strip()\n",
    "\n",
    "def removestopword(document):\n",
    "  text = ' '.join([word for word in document.strip().lower().split() if word not in cachedStopWords])\n",
    "  return text\n",
    "\n",
    "def readTrain(file):\n",
    "  data_frame = pd.read_csv(file, names = ['id','title','content','tags'])\n",
    "  print('finished reading files ... ')\n",
    "  \n",
    "  data_frame['title'] = data_frame['title'].apply(lambda x : x.decode('utf-8'))\n",
    "  data_frame['content'] = data_frame['content'].apply(lambda x : x.decode('utf-8'))\n",
    "  \n",
    "  data_frame['text'] = data_frame[['title', 'content']].apply(lambda x : ''.join(x), axis = 1)\n",
    "  data_frame['text'] = data_frame['text'].apply(lambda x : removestopword(x))\n",
    "  data_frame['text'] = data_frame['text'].apply(lambda x : replace_special_character(x))\n",
    "\n",
    "  data_frame['tags'] = data_frame['tags'].apply(lambda x : x.split(' '))\n",
    "  data_frame.drop('title', 1, inplace= True)\n",
    "  data_frame.drop('content', 1, inplace= True)\n",
    "  print('finished cleaning...')\n",
    "  return data_frame\n",
    "\n",
    "def readTrainingDataSet():\n",
    "  files = ['./data/cooking_short.csv','./data/crypto_short.csv']\n",
    "  train_data_frames = []\n",
    "  for f in files:\n",
    "    train_data_frames.append(readTrain(f))\n",
    "  return pd.concat(train_data_frames)\n",
    "\n",
    "word_dict = {}\n",
    "word_freq = {}\n",
    "def assign_ids(document):\n",
    "  doc = document.split()\n",
    "  for w in doc:\n",
    "    if w not in word_dict:  # assigning ID to the words\n",
    "      word_dict[w] = len(word_dict)\n",
    "    if w not in word_freq:  # creating the frequency count for the words\n",
    "      word_freq[w] = 1\n",
    "    else:\n",
    "      word_freq[w] += 1\n",
    "  return\n",
    "\n",
    "def create_feature_ids(data_frame):\n",
    "  data_frame['text'].apply(lambda x: assign_ids(x))\n",
    "\n",
    "\n",
    "train_data_frame = None\n",
    "test_data_frame = None"
   ]
  },
  {
   "cell_type": "code",
   "execution_count": 6,
   "metadata": {},
   "outputs": [
    {
     "name": "stdout",
     "output_type": "stream",
     "text": [
      "finished reading files ... \nfinished cleaning...\nfinished reading files ... \nfinished cleaning...\n"
     ]
    }
   ],
   "source": [
    "train_data_frame = readTrainingDataSet()\n",
    "create_feature_ids(train_data_frame)"
   ]
  },
  {
   "cell_type": "code",
   "execution_count": 9,
   "metadata": {},
   "outputs": [
    {
     "data": {
      "text/plain": [
       "<matplotlib.text.Text at 0x7f985cb26f10>"
      ]
     },
     "execution_count": 9,
     "metadata": {},
     "output_type": "execute_result"
    },
    {
     "data": {
      "image/png": "[encoded data removed]",
      "text/plain": [
       "<matplotlib.figure.Figure at 0x7f985cba28d0>"
      ]
     },
     "metadata": {},
     "output_type": "display_data"
    }
   ],
   "source": [
    "%matplotlib inline\n",
    "import matplotlib.pyplot as plt\n",
    "plt.plot(sorted(word_freq.values(), reverse=True))\n",
    "plt.xlabel('word')\n",
    "# plt.ylabel('log(frequency)')\n",
    "# plt.yscale('log')\n",
    "plt.title('Corpus-wide word frequency distribution')"
   ]
  },
  {
   "cell_type": "code",
   "execution_count": null,
   "metadata": {},
   "outputs": [],
   "source": [
    ""
   ]
  }
 ],
 "metadata": {
  "kernelspec": {
   "display_name": "Python 2",
   "language": "python",
   "name": "python2"
  },
  "language_info": {
   "codemirror_mode": {
    "name": "ipython",
    "version": 2.0
   },
   "file_extension": ".py",
   "mimetype": "text/x-python",
   "name": "python",
   "nbconvert_exporter": "python",
   "pygments_lexer": "ipython2",
   "version": "2.7.6"
  }
 },
 "nbformat": 4,
 "nbformat_minor": 0
}